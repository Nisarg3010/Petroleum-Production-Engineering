{
 "cells": [
  {
   "cell_type": "code",
   "execution_count": 1,
   "metadata": {},
   "outputs": [],
   "source": [
    "import pandas as pd\n",
    "from pandas import DataFrame\n",
    "import numpy as np"
   ]
  },
  {
   "cell_type": "code",
   "execution_count": 2,
   "metadata": {},
   "outputs": [],
   "source": [
    "import requests\n",
    "import random\n",
    "import xlrd\n",
    "import csv\n",
    "from datetime import datetime\n",
    "import os\n",
    "import warnings\n",
    "warnings.filterwarnings('ignore')"
   ]
  },
  {
   "cell_type": "code",
   "execution_count": 3,
   "metadata": {},
   "outputs": [],
   "source": [
    "import matplotlib as mpl\n",
    "import matplotlib.style\n",
    "import seaborn as sns  \n",
    "import matplotlib.pyplot as plt"
   ]
  },
  {
   "cell_type": "code",
   "execution_count": 4,
   "metadata": {},
   "outputs": [],
   "source": [
    "from scipy.optimize import curve_fit\n",
    "from sklearn.metrics import mean_squared_error\n",
    "from math import sqrt\n",
    "from statsmodels.tsa.stattools import acf, pacf\n",
    "from statsmodels.tsa.stattools import adfuller\n",
    "from statsmodels.tsa.arima_model import ARIMA"
   ]
  },
  {
   "cell_type": "code",
   "execution_count": 5,
   "metadata": {},
   "outputs": [],
   "source": [
    "# setting to default parameters\n",
    "plt.rcParams.update(plt.rcParamsDefault)\n",
    "\n",
    "# formatting for decimal places\n",
    "pd.set_option(\"display.float_format\", \"{:.2f}\".format)\n"
   ]
  },
  {
   "cell_type": "code",
   "execution_count": 6,
   "metadata": {},
   "outputs": [],
   "source": [
    "\n",
    "# matplotlib settings\n",
    "mpl.rcParams.update(mpl.rcParamsDefault)\n",
    "#plt.style.use('whitegrid')\n",
    "mpl.rcParams[\"figure.figsize\"] = (12, 8)\n",
    "mpl.rcParams[\"axes.grid\"] = False"
   ]
  },
  {
   "cell_type": "code",
   "execution_count": 7,
   "metadata": {},
   "outputs": [],
   "source": [
    "# setting seed for model reproducibility\n",
    "seed_value = 42\n",
    "os.environ['PYTHONHASHSEED'] = str(seed_value)\n",
    "random.seed(seed_value)\n",
    "np.random.seed(seed_value)"
   ]
  },
  {
   "cell_type": "code",
   "execution_count": 8,
   "metadata": {},
   "outputs": [],
   "source": [
    "# setting the destination for the data folder\n",
    "path = os.path.join(os.getcwd(), \"C:/Users/ASUS/Petroleum-Production-Engineering/src/data\")\n",
    "norm_path = os.path.normpath(path)"
   ]
  },
  {
   "cell_type": "code",
   "execution_count": 9,
   "metadata": {},
   "outputs": [],
   "source": [
    "# defining a function to scrape NDIC data\n",
    "# https://www.dmr.nd.gov/oilgas/\n",
    "# data from May 2015 to December 2018 will be used as a training dataset\n",
    "# data from 2019 will be used as a test dataset"
   ]
  },
  {
   "cell_type": "code",
   "execution_count": null,
   "metadata": {},
   "outputs": [],
   "source": [
    "# function to scrape data from NDIC\n",
    "def scrape_ndic(months_list):\n",
    "    '''function to scrape NDIC data'''\n",
    "    # link to website with production data\n",
    "    website = \"https://www.dmr.nd.gov/oilgas/mpr/\"\n",
    "    df = pd.DataFrame()\n",
    "    # loop through all of the dates in the list\n",
    "    for period in months_list:\n",
    "        url = website + period + \".xlsx\"\n",
    "        req = requests.get(url)\n",
    "        book = xlrd.open_workbook(file_contents=req.content)\n",
    "        sheet = book.sheet_by_index(0)\n",
    "        for i in range(1, sheet.nrows):\n",
    "            temp_value = sheet.cell_value(i, 0)\n",
    "            year, month, day, hour, minute, second = xlrd.xldate_as_tuple(temp_value, book.datemode)\n",
    "            sheet._cell_values[i][0] = datetime(year, month, 1).strftime(\"%m/%Y\")\n",
    "        new_file = (path + '\\\\'+ period + \".csv\")\n",
    "        csv_file = open(new_file, \"w\", newline=\"\")\n",
    "        writer = csv.writer(csv_file)\n",
    "        # iteration through each row for data pull\n",
    "        for rownum in range(sheet.nrows):\n",
    "            writer.writerow(sheet.row_values(rownum))\n",
    "        csv_file.close()\n",
    "        df = pd.read_csv(new_file)\n",
    "        df = df.append(df)\n",
    "    # dataframe with entire monthly production\n",
    "    return df\n"
   ]
  },
  {
   "cell_type": "code",
   "execution_count": 10,
   "metadata": {},
   "outputs": [],
   "source": [
    "from openpyxl import load_workbook\n",
    "from io import BytesIO"
   ]
  },
  {
   "cell_type": "code",
   "execution_count": 11,
   "metadata": {},
   "outputs": [],
   "source": [
    "def scrape_ndic(months_list, path=\".\"):\n",
    "    \"\"\"\n",
    "    Function to scrape monthly NDIC production data\n",
    "    and return a combined DataFrame.\n",
    "    \"\"\"\n",
    "    website = \"https://www.dmr.nd.gov/oilgas/mpr/\"\n",
    "    all_dfs = []\n",
    "\n",
    "    for period in months_list:\n",
    "        # Download XLSX file\n",
    "        url = website + period + \".xlsx\"\n",
    "        req = requests.get(url)\n",
    "        req.raise_for_status()\n",
    "\n",
    "        # Load workbook from memory\n",
    "        book = load_workbook(filename=BytesIO(req.content), read_only=True)\n",
    "        sheet = book.active\n",
    "\n",
    "        # Convert worksheet into list of lists\n",
    "        data = []\n",
    "        for row in sheet.iter_rows(values_only=True):\n",
    "            data.append(list(row))\n",
    "\n",
    "        # Transform into DataFrame\n",
    "        df = pd.DataFrame(data[1:], columns=data[0])  # first row = headers\n",
    "\n",
    "        # Ensure first column is Month/Year (if it is a date in Excel)\n",
    "        if isinstance(df.iloc[0, 0], datetime):\n",
    "            df.iloc[:, 0] = df.iloc[:, 0].apply(lambda d: datetime(d.year, d.month, 1).strftime(\"%m/%Y\"))\n",
    "\n",
    "        # Save to CSV if desired\n",
    "        new_file = f\"C:/Users/ASUS/Petroleum-Production-Engineering/src/data/{period}.csv\"\n",
    "        df.to_csv(new_file, index=False)\n",
    "\n",
    "        all_dfs.append(df)\n",
    "\n",
    "    # Concatenate all months into one DataFrame\n",
    "    final_df = pd.concat(all_dfs, ignore_index=True)\n",
    "\n",
    "    return final_df"
   ]
  },
  {
   "cell_type": "code",
   "execution_count": 12,
   "metadata": {},
   "outputs": [],
   "source": [
    "train_list = [\"2015_05\"]"
   ]
  },
  {
   "cell_type": "code",
   "execution_count": 13,
   "metadata": {},
   "outputs": [],
   "source": [
    "train_prod_data = scrape_ndic(train_list)\n",
    "train_prod_data[\"ReportDate\"] = pd.to_datetime(train_prod_data[\"ReportDate\"])"
   ]
  },
  {
   "cell_type": "code",
   "execution_count": null,
   "metadata": {},
   "outputs": [],
   "source": []
  }
 ],
 "metadata": {
  "kernelspec": {
   "display_name": "Python 3",
   "language": "python",
   "name": "python3"
  },
  "language_info": {
   "codemirror_mode": {
    "name": "ipython",
    "version": 3
   },
   "file_extension": ".py",
   "mimetype": "text/x-python",
   "name": "python",
   "nbconvert_exporter": "python",
   "pygments_lexer": "ipython3",
   "version": "3.12.3"
  }
 },
 "nbformat": 4,
 "nbformat_minor": 2
}
